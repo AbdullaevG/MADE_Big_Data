{
 "cells": [
  {
   "cell_type": "markdown",
   "id": "cee1e981",
   "metadata": {},
   "source": [
    "### Запуск PySpark"
   ]
  },
  {
   "cell_type": "code",
   "execution_count": 1,
   "id": "094f077c",
   "metadata": {},
   "outputs": [],
   "source": [
    "import findspark\n",
    "import re\n",
    "import ast\n",
    "import string\n",
    "findspark.init()"
   ]
  },
  {
   "cell_type": "code",
   "execution_count": 2,
   "id": "90a560fd",
   "metadata": {},
   "outputs": [],
   "source": [
    "import pyspark\n",
    "sc = pyspark.SparkContext(appName=\"practise\")"
   ]
  },
  {
   "cell_type": "code",
   "execution_count": 3,
   "id": "8b8dbdc2",
   "metadata": {},
   "outputs": [
    {
     "data": {
      "text/plain": [
       "['a', 'b', 'c', 'd', 'e', 'f', 'g', 'h', 'i', 'j']"
      ]
     },
     "execution_count": 3,
     "metadata": {},
     "output_type": "execute_result"
    }
   ],
   "source": [
    "letters = list(string.ascii_letters)\n",
    "letters[:10]"
   ]
  },
  {
   "cell_type": "code",
   "execution_count": 4,
   "id": "986c12b4",
   "metadata": {},
   "outputs": [
    {
     "data": {
      "text/plain": [
       "8"
      ]
     },
     "execution_count": 4,
     "metadata": {},
     "output_type": "execute_result"
    }
   ],
   "source": [
    "letters_rdd = sc.parallelize(letters)\n",
    "letters_rdd.getNumPartitions() "
   ]
  },
  {
   "cell_type": "code",
   "execution_count": 5,
   "id": "fd2300ca",
   "metadata": {},
   "outputs": [
    {
     "data": {
      "text/plain": [
       "[['a', 'b', 'c', 'd', 'e', 'f'],\n",
       " ['g', 'h', 'i', 'j', 'k', 'l'],\n",
       " ['m', 'n', 'o', 'p', 'q', 'r'],\n",
       " ['s', 't', 'u', 'v', 'w', 'x'],\n",
       " ['y', 'z', 'A', 'B', 'C', 'D'],\n",
       " ['E', 'F', 'G', 'H', 'I', 'J'],\n",
       " ['K', 'L', 'M', 'N', 'O', 'P'],\n",
       " ['Q', 'R', 'S', 'T', 'U', 'V', 'W', 'X', 'Y', 'Z']]"
      ]
     },
     "execution_count": 5,
     "metadata": {},
     "output_type": "execute_result"
    }
   ],
   "source": [
    "letters_rdd.glom().collect()"
   ]
  },
  {
   "cell_type": "code",
   "execution_count": 6,
   "id": "10bf64a9",
   "metadata": {},
   "outputs": [],
   "source": [
    "letters_rdd = (\n",
    "    letters_rdd\n",
    "    .map(lambda x: (x, 1))\n",
    ")"
   ]
  },
  {
   "cell_type": "code",
   "execution_count": 7,
   "id": "c50940b3",
   "metadata": {},
   "outputs": [
    {
     "data": {
      "text/plain": [
       "('a', 1)"
      ]
     },
     "execution_count": 7,
     "metadata": {},
     "output_type": "execute_result"
    }
   ],
   "source": [
    "letters_rdd.first()"
   ]
  },
  {
   "cell_type": "markdown",
   "id": "11bdf00d",
   "metadata": {},
   "source": [
    "### Задачи на Spark RDD и PairRDD\n",
    "\n",
    "## Задача 1. Разминка\n",
    "\n",
    "Вам нужно провести аналитику с помощью Spark на основе датасета о марках машин.\n",
    "Ваша задача - посчитать, сколько марок машин есть в датасете по интересующим\n",
    "срезам (например - по первой букве в названии марки).\n",
    "\n",
    "Получите RDD, содержащий количество производителей автомобилей с разбиением\n",
    "по буквам, с которых начинается название производителя (буквы в разном регистре\n",
    "будем считать разными). Если для какой-то буквы нет ни одного производителя,\n",
    "количество должно быть равно 0."
   ]
  },
  {
   "cell_type": "code",
   "execution_count": 8,
   "id": "1b17e455",
   "metadata": {},
   "outputs": [],
   "source": [
    "# !wget https://raw.githubusercontent.com/big-data-team/big-data-course/master/public_examples/spark/rdd/workshop/car_brands.txt"
   ]
  },
  {
   "cell_type": "code",
   "execution_count": 9,
   "id": "c111760f",
   "metadata": {},
   "outputs": [
    {
     "data": {
      "text/plain": [
       "64"
      ]
     },
     "execution_count": 9,
     "metadata": {},
     "output_type": "execute_result"
    }
   ],
   "source": [
    "cars_rdd = sc.textFile(\"car_brands.txt\")\n",
    "cars_rdd.count()"
   ]
  },
  {
   "cell_type": "code",
   "execution_count": 10,
   "id": "8e5336b1",
   "metadata": {},
   "outputs": [
    {
     "data": {
      "text/plain": [
       "('C', 4)"
      ]
     },
     "execution_count": 10,
     "metadata": {},
     "output_type": "execute_result"
    }
   ],
   "source": [
    "cars_count = (\n",
    "    cars_rdd\n",
    "    .map(lambda x: (x[0], 1))\n",
    "    .reduceByKey(lambda x, y: x+y)\n",
    ")\n",
    "cars_count.first()"
   ]
  },
  {
   "cell_type": "code",
   "execution_count": 11,
   "id": "10741f47",
   "metadata": {},
   "outputs": [
    {
     "data": {
      "text/plain": [
       "('O', (1, 1))"
      ]
     },
     "execution_count": 11,
     "metadata": {},
     "output_type": "execute_result"
    }
   ],
   "source": [
    "joined_rdd = letters_rdd.leftOuterJoin(cars_count)\n",
    "joined_rdd.first()"
   ]
  },
  {
   "cell_type": "code",
   "execution_count": 12,
   "id": "a974f5f8",
   "metadata": {},
   "outputs": [],
   "source": [
    "result_rdd = (\n",
    "    joined_rdd\n",
    "    .map(lambda y: (y[0], 0) if not y[1][1] else (y[0], y[1][1]))\n",
    ")"
   ]
  },
  {
   "cell_type": "code",
   "execution_count": 13,
   "id": "71aba2ce",
   "metadata": {},
   "outputs": [
    {
     "data": {
      "text/plain": [
       "[('O', 1),\n",
       " ('m', 0),\n",
       " ('u', 0),\n",
       " ('A', 4),\n",
       " ('H', 3),\n",
       " ('U', 0),\n",
       " ('V', 2),\n",
       " ('y', 0),\n",
       " ('R', 3),\n",
       " ('S', 7),\n",
       " ('e', 0),\n",
       " ('f', 0),\n",
       " ('k', 0),\n",
       " ('n', 0),\n",
       " ('o', 0),\n",
       " ('t', 0),\n",
       " ('I', 2),\n",
       " ('b', 0),\n",
       " ('h', 0),\n",
       " ('i', 0),\n",
       " ('p', 0),\n",
       " ('r', 0),\n",
       " ('s', 0),\n",
       " ('J', 2),\n",
       " ('K', 2),\n",
       " ('W', 0),\n",
       " ('q', 0),\n",
       " ('x', 0),\n",
       " ('F', 4),\n",
       " ('Q', 0),\n",
       " ('T', 2),\n",
       " ('X', 0),\n",
       " ('Z', 0),\n",
       " ('c', 0),\n",
       " ('j', 0),\n",
       " ('l', 0),\n",
       " ('N', 1),\n",
       " ('B', 3),\n",
       " ('D', 6),\n",
       " ('G', 0),\n",
       " ('P', 2),\n",
       " ('d', 0),\n",
       " ('g', 0),\n",
       " ('C', 4),\n",
       " ('L', 7),\n",
       " ('a', 0),\n",
       " ('v', 0),\n",
       " ('w', 0),\n",
       " ('z', 0),\n",
       " ('E', 0),\n",
       " ('M', 9),\n",
       " ('Y', 0)]"
      ]
     },
     "execution_count": 13,
     "metadata": {},
     "output_type": "execute_result"
    }
   ],
   "source": [
    "result_rdd.collect()"
   ]
  },
  {
   "cell_type": "markdown",
   "id": "74d93402",
   "metadata": {},
   "source": []
  },
  {
   "cell_type": "code",
   "execution_count": 14,
   "id": "79e67eb3",
   "metadata": {},
   "outputs": [],
   "source": [
    "#!wget https://raw.githubusercontent.com/big-data-team/big-data-course/master/public_examples/spark/rdd/workshop/cities.jsonlines"
   ]
  },
  {
   "cell_type": "markdown",
   "id": "39c655f6",
   "metadata": {},
   "source": [
    "### Задача 2. Конкурсы и шарады с костылями и приседаниями\n",
    "\n",
    "В этом задании вам предстоит поработать с “грязными” данными (все как в реальной\n",
    "жизни). Возьмите битый датасет, который содержит статистику о разных городах. В каждой строке находится строка в формате json, вам нужно построить на основе\n",
    "этих данных RDD из словарей с условием, что:\n",
    "\n",
    " - если континент отсутствует - ставим Earth;\n",
    " - если отсутствует population - ставим 0;\n",
    " - если это невалидная запись json, то такую запись игнорируем;\n",
    " \n",
    "После этого можем переходить непосредственно к аналитике на Spark:\n",
    "1. Найдите все дубликаты и создайте новый RDD без дублей;\n",
    "2. количество городов и общая сумма населения;\n",
    "3. Найдите наиболее населенный город"
   ]
  },
  {
   "cell_type": "code",
   "execution_count": 15,
   "id": "12105932",
   "metadata": {},
   "outputs": [
    {
     "data": {
      "text/plain": [
       "['{ \"name\":\"Moscow\", \"country\":\"Russia\", \"continent\": \"Europe\", \"population\": 12380664}',\n",
       " '{ \"name\":\"Madrid\", \"country\":\"Spain\" }',\n",
       " '{ \"name\":\"Paris\", \"country\":\"France\", \"continent\": \"Europe\", \"population\" : 2196936}',\n",
       " '{ \"name\":\"Berlin\", \"country\":\"Germany\", \"continent\": \"Europe\", \"population\": 3490105}',\n",
       " '{ \"name\":\"Barselona\", \"country\":\"Spain\", \"continent\": \"Europe\" }',\n",
       " '{ \"name\":\"Cairo\", \"country\":\"Egypt\", \"continent\": \"Africa\", \"population\": 11922948 }',\n",
       " '{ \"name\":\"Cairo\", \"country\":\"Egypt\", \"continent\": \"Africa\", \"population\": 11922948 }',\n",
       " '{ \"name\":\"New York, \"country\":\"USA\"']"
      ]
     },
     "execution_count": 15,
     "metadata": {},
     "output_type": "execute_result"
    }
   ],
   "source": [
    "rows_json = sc.textFile(\"cities.jsonlines\")\n",
    "rows_json.collect()"
   ]
  },
  {
   "cell_type": "code",
   "execution_count": 16,
   "id": "b023e581",
   "metadata": {},
   "outputs": [],
   "source": [
    "def to_dict(x):\n",
    "    try:\n",
    "        r = ast.literal_eval(x)\n",
    "        return r\n",
    "    except:\n",
    "        pass"
   ]
  },
  {
   "cell_type": "code",
   "execution_count": 18,
   "id": "41403a42",
   "metadata": {},
   "outputs": [
    {
     "data": {
      "text/plain": [
       "[{'name': 'Moscow',\n",
       "  'country': 'Russia',\n",
       "  'continent': 'Europe',\n",
       "  'population': 12380664},\n",
       " {'name': 'Madrid', 'country': 'Spain'},\n",
       " {'name': 'Paris',\n",
       "  'country': 'France',\n",
       "  'continent': 'Europe',\n",
       "  'population': 2196936},\n",
       " {'name': 'Berlin',\n",
       "  'country': 'Germany',\n",
       "  'continent': 'Europe',\n",
       "  'population': 3490105},\n",
       " {'name': 'Barselona', 'country': 'Spain', 'continent': 'Europe'},\n",
       " {'name': 'Cairo',\n",
       "  'country': 'Egypt',\n",
       "  'continent': 'Africa',\n",
       "  'population': 11922948},\n",
       " {'name': 'Cairo',\n",
       "  'country': 'Egypt',\n",
       "  'continent': 'Africa',\n",
       "  'population': 11922948}]"
      ]
     },
     "execution_count": 18,
     "metadata": {},
     "output_type": "execute_result"
    }
   ],
   "source": [
    "cities = (\n",
    "        rows_json\n",
    "        .map(to_dict)\n",
    "        .filter(lambda x: x is not None)\n",
    ")\n",
    "cities.collect()"
   ]
  },
  {
   "cell_type": "code",
   "execution_count": 19,
   "id": "caccf61e",
   "metadata": {},
   "outputs": [],
   "source": [
    "def correct_dict(x):\n",
    "    if \"continent\" not in x.keys():\n",
    "        x['continent'] = \"Earth\"\n",
    "    if 'population' not in x.keys():\n",
    "        x['population'] = 0\n",
    "    return x"
   ]
  },
  {
   "cell_type": "code",
   "execution_count": 20,
   "id": "222d3671",
   "metadata": {},
   "outputs": [
    {
     "data": {
      "text/plain": [
       "[{'name': 'Moscow',\n",
       "  'country': 'Russia',\n",
       "  'continent': 'Europe',\n",
       "  'population': 12380664},\n",
       " {'name': 'Madrid', 'country': 'Spain', 'continent': 'Earth', 'population': 0},\n",
       " {'name': 'Paris',\n",
       "  'country': 'France',\n",
       "  'continent': 'Europe',\n",
       "  'population': 2196936},\n",
       " {'name': 'Berlin',\n",
       "  'country': 'Germany',\n",
       "  'continent': 'Europe',\n",
       "  'population': 3490105},\n",
       " {'name': 'Barselona',\n",
       "  'country': 'Spain',\n",
       "  'continent': 'Europe',\n",
       "  'population': 0},\n",
       " {'name': 'Cairo',\n",
       "  'country': 'Egypt',\n",
       "  'continent': 'Africa',\n",
       "  'population': 11922948},\n",
       " {'name': 'Cairo',\n",
       "  'country': 'Egypt',\n",
       "  'continent': 'Africa',\n",
       "  'population': 11922948}]"
      ]
     },
     "execution_count": 20,
     "metadata": {},
     "output_type": "execute_result"
    }
   ],
   "source": [
    "cities = (\n",
    "    cities\n",
    "    .map(correct_dict)\n",
    ")\n",
    "cities.collect()"
   ]
  },
  {
   "cell_type": "code",
   "execution_count": 21,
   "id": "3ea5b00d",
   "metadata": {},
   "outputs": [],
   "source": [
    "def get_tuple(x):\n",
    "    if \"continent\" not in x.keys():\n",
    "        x['continet'] = \"Earth\"\n",
    "    if 'population' not in x.keys():\n",
    "        x['population'] = 0\n",
    "    return (x['name'], x['country'], x['continent'], x['population'])"
   ]
  },
  {
   "cell_type": "code",
   "execution_count": 22,
   "id": "0a21e8fc",
   "metadata": {},
   "outputs": [],
   "source": [
    "cities = (\n",
    "    cities\n",
    "    .map(get_tuple)\n",
    ")"
   ]
  },
  {
   "cell_type": "code",
   "execution_count": 23,
   "id": "307f6e8d",
   "metadata": {},
   "outputs": [
    {
     "data": {
      "text/plain": [
       "[('Moscow', 'Russia', 'Europe', 12380664),\n",
       " ('Madrid', 'Spain', 'Earth', 0),\n",
       " ('Paris', 'France', 'Europe', 2196936),\n",
       " ('Berlin', 'Germany', 'Europe', 3490105),\n",
       " ('Barselona', 'Spain', 'Europe', 0),\n",
       " ('Cairo', 'Egypt', 'Africa', 11922948),\n",
       " ('Cairo', 'Egypt', 'Africa', 11922948)]"
      ]
     },
     "execution_count": 23,
     "metadata": {},
     "output_type": "execute_result"
    }
   ],
   "source": [
    "cities.collect()"
   ]
  },
  {
   "cell_type": "code",
   "execution_count": 24,
   "id": "b1b38cc0",
   "metadata": {},
   "outputs": [
    {
     "data": {
      "text/plain": [
       "[('Paris', 'France', 'Europe', 2196936),\n",
       " ('Berlin', 'Germany', 'Europe', 3490105),\n",
       " ('Barselona', 'Spain', 'Europe', 0),\n",
       " ('Moscow', 'Russia', 'Europe', 12380664),\n",
       " ('Madrid', 'Spain', 'Earth', 0),\n",
       " ('Cairo', 'Egypt', 'Africa', 11922948)]"
      ]
     },
     "execution_count": 24,
     "metadata": {},
     "output_type": "execute_result"
    }
   ],
   "source": [
    "cities = cities.distinct()\n",
    "cities.collect()"
   ]
  },
  {
   "cell_type": "code",
   "execution_count": 25,
   "id": "2fda1212",
   "metadata": {},
   "outputs": [
    {
     "data": {
      "text/plain": [
       "2"
      ]
     },
     "execution_count": 25,
     "metadata": {},
     "output_type": "execute_result"
    }
   ],
   "source": [
    "cities.getNumPartitions()"
   ]
  },
  {
   "cell_type": "code",
   "execution_count": 26,
   "id": "640e1a87",
   "metadata": {},
   "outputs": [
    {
     "data": {
      "text/plain": [
       "(29990653, 6)"
      ]
     },
     "execution_count": 26,
     "metadata": {},
     "output_type": "execute_result"
    }
   ],
   "source": [
    "# количество городов и сумма населения;\n",
    "seqOp = (lambda local_result, list_element: (local_result[0] + list_element[-1], local_result[1] + 1) )\n",
    "combOp = (lambda some_local_result, another_local_result: (some_local_result[0] + another_local_result[0], some_local_result[1] + another_local_result[1]) )\n",
    "cities.aggregate((0, 0), seqOp, combOp)"
   ]
  },
  {
   "cell_type": "code",
   "execution_count": 27,
   "id": "034d4fa5",
   "metadata": {},
   "outputs": [
    {
     "data": {
      "text/plain": [
       "'Moscow'"
      ]
     },
     "execution_count": 27,
     "metadata": {},
     "output_type": "execute_result"
    }
   ],
   "source": [
    "# Найдите наиболее населенный город;\n",
    "cities.max(lambda x: x[-1])[0]"
   ]
  },
  {
   "cell_type": "code",
   "execution_count": null,
   "id": "4d9a0c70",
   "metadata": {},
   "outputs": [],
   "source": []
  }
 ],
 "metadata": {
  "kernelspec": {
   "display_name": "Python 3",
   "language": "python",
   "name": "python3"
  },
  "language_info": {
   "codemirror_mode": {
    "name": "ipython",
    "version": 3
   },
   "file_extension": ".py",
   "mimetype": "text/x-python",
   "name": "python",
   "nbconvert_exporter": "python",
   "pygments_lexer": "ipython3",
   "version": "3.8.5"
  }
 },
 "nbformat": 4,
 "nbformat_minor": 5
}
