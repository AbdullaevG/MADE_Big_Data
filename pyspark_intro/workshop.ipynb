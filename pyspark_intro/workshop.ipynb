{
 "cells": [
  {
   "cell_type": "code",
   "execution_count": 57,
   "id": "85ce2b9b",
   "metadata": {},
   "outputs": [],
   "source": [
    "import findspark\n",
    "import re\n",
    "#findspark.init()"
   ]
  },
  {
   "cell_type": "code",
   "execution_count": 3,
   "id": "b39c7f7d",
   "metadata": {},
   "outputs": [],
   "source": [
    "import pyspark\n",
    "sc = pyspark.SparkContext(appName=\"first\")"
   ]
  },
  {
   "cell_type": "code",
   "execution_count": 4,
   "id": "73761930",
   "metadata": {},
   "outputs": [
    {
     "data": {
      "text/plain": [
       "[('spark.app.id', 'local-1689508779525'),\n",
       " ('spark.driver.port', '54091'),\n",
       " ('spark.rdd.compress', 'True'),\n",
       " ('spark.serializer.objectStreamReset', '100'),\n",
       " ('spark.driver.host', 'Amir.mshome.net'),\n",
       " ('spark.master', 'local[*]'),\n",
       " ('spark.submit.pyFiles', ''),\n",
       " ('spark.executor.id', 'driver'),\n",
       " ('spark.submit.deployMode', 'client'),\n",
       " ('spark.ui.showConsoleProgress', 'true'),\n",
       " ('spark.app.name', 'first'),\n",
       " ('spark.app.startTime', '1689508777558')]"
      ]
     },
     "execution_count": 4,
     "metadata": {},
     "output_type": "execute_result"
    }
   ],
   "source": [
    "sc.getConf().getAll()"
   ]
  },
  {
   "cell_type": "code",
   "execution_count": 5,
   "id": "1d8518b5",
   "metadata": {},
   "outputs": [
    {
     "data": {
      "text/plain": [
       "ParallelCollectionRDD[0] at readRDDFromFile at PythonRDD.scala:274"
      ]
     },
     "execution_count": 5,
     "metadata": {},
     "output_type": "execute_result"
    }
   ],
   "source": [
    "fruit_rdd = sc.parallelize([\"Apple\", \"Orange\", \"Kiwi\"])\n",
    "fruit_rdd"
   ]
  },
  {
   "cell_type": "code",
   "execution_count": 6,
   "id": "002965d1",
   "metadata": {},
   "outputs": [
    {
     "data": {
      "text/plain": [
       "['Apple', 'Orange', 'Kiwi']"
      ]
     },
     "execution_count": 6,
     "metadata": {},
     "output_type": "execute_result"
    }
   ],
   "source": [
    "fruit_rdd.collect()\n",
    "# Если rdd слишком большой - то это убьет наш клиентский сервер, поскольку все данные со всех экзекютеров \n",
    "#  поедут на наш сервер, пожтому коллект надо использовать только если данных не много"
   ]
  },
  {
   "cell_type": "code",
   "execution_count": 7,
   "id": "fda37c2b",
   "metadata": {},
   "outputs": [
    {
     "data": {
      "text/plain": [
       "8"
      ]
     },
     "execution_count": 7,
     "metadata": {},
     "output_type": "execute_result"
    }
   ],
   "source": [
    "fruit_rdd.getNumPartitions() # сколько у нас сплитов"
   ]
  },
  {
   "cell_type": "code",
   "execution_count": 8,
   "id": "a7391041",
   "metadata": {},
   "outputs": [
    {
     "data": {
      "text/plain": [
       "[[], [], ['Apple'], [], [], ['Orange'], [], ['Kiwi']]"
      ]
     },
     "execution_count": 8,
     "metadata": {},
     "output_type": "execute_result"
    }
   ],
   "source": [
    "fruit_rdd.glom().collect()"
   ]
  },
  {
   "cell_type": "code",
   "execution_count": 12,
   "id": "7a1062cf",
   "metadata": {},
   "outputs": [
    {
     "name": "stdout",
     "output_type": "stream",
     "text": [
      "2\n",
      "851\n",
      "['able', 'about', 'above', 'abroad', 'according', 'accordingly', 'across', 'actually', 'adj', 'after']\n"
     ]
    }
   ],
   "source": [
    "stop_words_rdd = sc.textFile(\"./stop_words_english.txt\")\n",
    "print(stop_words_rdd.getNumPartitions())\n",
    "print(stop_words_rdd.count())\n",
    "print(stop_words_rdd.take(10))"
   ]
  },
  {
   "cell_type": "code",
   "execution_count": 13,
   "id": "3534f02b",
   "metadata": {},
   "outputs": [
    {
     "name": "stdout",
     "output_type": "stream",
     "text": [
      "10\n",
      "851\n",
      "['cant', \"can't\", 'caption', 'cause', 'causes', 'certain', 'certainly', 'changes', 'clearly', \"c'mon\"]\n"
     ]
    }
   ],
   "source": [
    "stop_words_rdd = stop_words_rdd.repartition(10)\n",
    "print(stop_words_rdd.getNumPartitions())\n",
    "print(stop_words_rdd.count())\n",
    "print(stop_words_rdd.take(10))"
   ]
  },
  {
   "cell_type": "code",
   "execution_count": 14,
   "id": "9ed92361",
   "metadata": {},
   "outputs": [
    {
     "data": {
      "text/plain": [
       "simple_text.txt MapPartitionsRDD[21] at textFile at <unknown>:0"
      ]
     },
     "execution_count": 14,
     "metadata": {},
     "output_type": "execute_result"
    }
   ],
   "source": [
    "simple_rdd = sc.textFile(\"simple_text.txt\")\n",
    "simple_rdd"
   ]
  },
  {
   "cell_type": "code",
   "execution_count": 16,
   "id": "d09f8e50",
   "metadata": {},
   "outputs": [
    {
     "name": "stdout",
     "output_type": "stream",
     "text": [
      "2\n",
      "3\n"
     ]
    }
   ],
   "source": [
    "print(simple_rdd.getNumPartitions())\n",
    "print(simple_rdd.count())"
   ]
  },
  {
   "cell_type": "code",
   "execution_count": 17,
   "id": "024405eb",
   "metadata": {},
   "outputs": [
    {
     "data": {
      "text/plain": [
       "'a 1 first'"
      ]
     },
     "execution_count": 17,
     "metadata": {},
     "output_type": "execute_result"
    }
   ],
   "source": [
    "simple_rdd.first()  # Первый элемент из rdd"
   ]
  },
  {
   "cell_type": "code",
   "execution_count": 18,
   "id": "63acff21",
   "metadata": {},
   "outputs": [
    {
     "data": {
      "text/plain": [
       "['a', '1', 'first']"
      ]
     },
     "execution_count": 18,
     "metadata": {},
     "output_type": "execute_result"
    }
   ],
   "source": [
    "favorite_letters_rdd = simple_rdd.map(lambda x: x.split())\n",
    "favorite_letters_rdd.first()"
   ]
  },
  {
   "cell_type": "code",
   "execution_count": 20,
   "id": "ed06beab",
   "metadata": {},
   "outputs": [
    {
     "data": {
      "text/plain": [
       "False"
      ]
     },
     "execution_count": 20,
     "metadata": {},
     "output_type": "execute_result"
    }
   ],
   "source": [
    "simple_rdd.is_cached # закешировано ли rdd"
   ]
  },
  {
   "cell_type": "code",
   "execution_count": 21,
   "id": "e0defb92",
   "metadata": {},
   "outputs": [],
   "source": [
    "# simple_rdd.cache() - кешировать данные, чтобы не перезапускать расчеты заново\n",
    "# simple_rdd.unpersist() - очистить кеш"
   ]
  },
  {
   "cell_type": "code",
   "execution_count": 40,
   "id": "7231c045",
   "metadata": {},
   "outputs": [],
   "source": [
    "wiki_rdd = sc.textFile(\"wiki_simple.txt\")"
   ]
  },
  {
   "cell_type": "code",
   "execution_count": 41,
   "id": "21cfc49e",
   "metadata": {},
   "outputs": [],
   "source": [
    "wiki_rdd = (\n",
    "    wiki_rdd\n",
    "    .map(lambda x: x.split(\"\\t\", 1)) # get list of words\n",
    "    .map(lambda pair: pair[1].lower()) # lower words in context\n",
    "    .flatMap(lambda content: content.split())) # split to words"
   ]
  },
  {
   "cell_type": "code",
   "execution_count": 42,
   "id": "f43161f8",
   "metadata": {},
   "outputs": [],
   "source": [
    "wiki_count_rdd = (\n",
    "    wiki_rdd\n",
    "    .map(lambda x: (x, 1))\n",
    "    .reduceByKey(lambda x, y: x+y)\n",
    ")"
   ]
  },
  {
   "cell_type": "code",
   "execution_count": 43,
   "id": "59d8b127",
   "metadata": {},
   "outputs": [
    {
     "data": {
      "text/plain": [
       "PythonRDD[63] at RDD at PythonRDD.scala:53"
      ]
     },
     "execution_count": 43,
     "metadata": {},
     "output_type": "execute_result"
    }
   ],
   "source": [
    "wiki_count_rdd.cache()"
   ]
  },
  {
   "cell_type": "code",
   "execution_count": 44,
   "id": "5cc58e0b",
   "metadata": {},
   "outputs": [
    {
     "name": "stdout",
     "output_type": "stream",
     "text": [
      "True\n",
      "('in', 4)\n",
      "\n",
      "Wall time: 7.32 s\n"
     ]
    }
   ],
   "source": [
    "%%time\n",
    "print(wiki_count_rdd.is_cached)\n",
    "print(wiki_count_rdd.first())\n",
    "print()"
   ]
  },
  {
   "cell_type": "code",
   "execution_count": 45,
   "id": "2531515d",
   "metadata": {},
   "outputs": [
    {
     "name": "stdout",
     "output_type": "stream",
     "text": [
      "True\n",
      "('in', 4)\n",
      "\n",
      "Wall time: 1.87 s\n"
     ]
    }
   ],
   "source": [
    "%%time\n",
    "print(wiki_count_rdd.is_cached)\n",
    "print(wiki_count_rdd.first())\n",
    "print()"
   ]
  },
  {
   "cell_type": "code",
   "execution_count": 46,
   "id": "b7400f51",
   "metadata": {},
   "outputs": [
    {
     "data": {
      "text/plain": [
       "PythonRDD[63] at RDD at PythonRDD.scala:53"
      ]
     },
     "execution_count": 46,
     "metadata": {},
     "output_type": "execute_result"
    }
   ],
   "source": [
    "wiki_count_rdd.unpersist()"
   ]
  },
  {
   "cell_type": "code",
   "execution_count": 47,
   "id": "e35b62b9",
   "metadata": {},
   "outputs": [
    {
     "name": "stdout",
     "output_type": "stream",
     "text": [
      "False\n",
      "('in', 4)\n",
      "\n",
      "Wall time: 2.01 s\n"
     ]
    }
   ],
   "source": [
    "%%time\n",
    "print(wiki_count_rdd.is_cached)\n",
    "print(wiki_count_rdd.first())\n",
    "print()"
   ]
  },
  {
   "cell_type": "markdown",
   "id": "f50ea646",
   "metadata": {},
   "source": [
    "## Spark Broadcast"
   ]
  },
  {
   "cell_type": "code",
   "execution_count": 49,
   "id": "2c86477a",
   "metadata": {},
   "outputs": [],
   "source": [
    "stop_words_rdd = sc.textFile(\"stop_words_english.txt\")\n",
    "stop_words_broadcast = sc.broadcast(stop_words_rdd.collect()) # помещаем в оперативную память, раскидываем \n",
    "                                                             #  наш датасет на все executors"
   ]
  },
  {
   "cell_type": "code",
   "execution_count": 56,
   "id": "0a51aa3e",
   "metadata": {},
   "outputs": [
    {
     "data": {
      "text/plain": [
       "[('quantum', 6),\n",
       " ('protons', 5),\n",
       " ('atom', 4),\n",
       " ('atoms', 4),\n",
       " ('neutrons', 3),\n",
       " ('early', 3),\n",
       " ('particle', 3),\n",
       " ('nucleus', 2),\n",
       " ('physics', 2),\n",
       " ('chemical', 2)]"
      ]
     },
     "execution_count": 56,
     "metadata": {},
     "output_type": "execute_result"
    }
   ],
   "source": [
    "wiki_count_rdd.filter(lambda x: x[0] not in stop_words_broadcast.value).takeOrdered(10, key = lambda x: -x[1])"
   ]
  },
  {
   "cell_type": "markdown",
   "id": "a908d728",
   "metadata": {},
   "source": [
    "## Spark Joins and PairRDD\n",
    "\n",
    "Можно реализовать mapside join, у нас весь RDD закешированный находится на оперативной памяти на executors, и мы туда бродкастим наш датасет и на месте производим join "
   ]
  },
  {
   "cell_type": "code",
   "execution_count": 58,
   "id": "c54e513c",
   "metadata": {},
   "outputs": [],
   "source": [
    "stop_words_rdd = sc.textFile(\"stop_words_english.txt\")\n",
    "stop_words_broadcast = sc.broadcast(stop_words_rdd.collect())"
   ]
  },
  {
   "cell_type": "code",
   "execution_count": 61,
   "id": "f8158243",
   "metadata": {},
   "outputs": [
    {
     "data": {
      "text/plain": [
       "('i', 'in', 4)"
      ]
     },
     "execution_count": 61,
     "metadata": {},
     "output_type": "execute_result"
    }
   ],
   "source": [
    "triple_dataset = wiki_count_rdd.map(lambda x: (x[0][0], x[0], x[1]))\n",
    "triple_dataset.first()"
   ]
  },
  {
   "cell_type": "code",
   "execution_count": 62,
   "id": "573ed8d1",
   "metadata": {},
   "outputs": [
    {
     "data": {
      "text/plain": [
       "['a', '1', 'first']"
      ]
     },
     "execution_count": 62,
     "metadata": {},
     "output_type": "execute_result"
    }
   ],
   "source": [
    "favorite_letters_rdd.first()"
   ]
  },
  {
   "cell_type": "code",
   "execution_count": 63,
   "id": "43dd2a98",
   "metadata": {},
   "outputs": [
    {
     "data": {
      "text/plain": [
       "[('b', ('2', 'based')),\n",
       " ('b', ('2', 'basic')),\n",
       " ('b', ('2', 'by')),\n",
       " ('b', ('2', 'bound')),\n",
       " ('b', ('2', 'be'))]"
      ]
     },
     "execution_count": 63,
     "metadata": {},
     "output_type": "execute_result"
    }
   ],
   "source": [
    "favorite_letters_rdd.join(triple_dataset).take(5) # сджойнили по первой колонке, остались вторые колонки,\n",
    "                                                  # третьи колонки потерялись"
   ]
  },
  {
   "cell_type": "code",
   "execution_count": 64,
   "id": "8662a059",
   "metadata": {},
   "outputs": [
    {
     "data": {
      "text/plain": [
       "('i', ['in', 4])"
      ]
     },
     "execution_count": 64,
     "metadata": {},
     "output_type": "execute_result"
    }
   ],
   "source": [
    "# чтобы не потерять колокник запокуем в лист вторую и третью колонки\n",
    "triple_dataset = wiki_count_rdd.map(lambda x: (x[0][0], [x[0], x[1]]))\n",
    "triple_dataset.first()"
   ]
  },
  {
   "cell_type": "code",
   "execution_count": 65,
   "id": "cf91fef5",
   "metadata": {},
   "outputs": [
    {
     "data": {
      "text/plain": [
       "[('b', ('2', ['based', 1])),\n",
       " ('b', ('2', ['basic', 1])),\n",
       " ('b', ('2', ['by', 3])),\n",
       " ('b', ('2', ['bound', 1])),\n",
       " ('b', ('2', ['be', 1]))]"
      ]
     },
     "execution_count": 65,
     "metadata": {},
     "output_type": "execute_result"
    }
   ],
   "source": [
    "favorite_letters_rdd.join(triple_dataset).take(5)"
   ]
  },
  {
   "cell_type": "markdown",
   "id": "cf291d7a",
   "metadata": {},
   "source": [
    "[More examples of RDD functions](https://sparkbyexamples.com/spark/spark-pair-rdd-functions/)"
   ]
  },
  {
   "cell_type": "code",
   "execution_count": 66,
   "id": "8f14e7a0",
   "metadata": {},
   "outputs": [],
   "source": [
    "sc.stop()"
   ]
  },
  {
   "cell_type": "code",
   "execution_count": null,
   "id": "8fefdd5a",
   "metadata": {},
   "outputs": [],
   "source": []
  }
 ],
 "metadata": {
  "kernelspec": {
   "display_name": "Python 3",
   "language": "python",
   "name": "python3"
  },
  "language_info": {
   "codemirror_mode": {
    "name": "ipython",
    "version": 3
   },
   "file_extension": ".py",
   "mimetype": "text/x-python",
   "name": "python",
   "nbconvert_exporter": "python",
   "pygments_lexer": "ipython3",
   "version": "3.8.5"
  }
 },
 "nbformat": 4,
 "nbformat_minor": 5
}
