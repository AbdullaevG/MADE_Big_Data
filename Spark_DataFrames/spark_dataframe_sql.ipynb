{
 "cells": [
  {
   "cell_type": "markdown",
   "metadata": {},
   "source": [
    "# Spark DataFrames\n",
    "**Andrey Titov**  \n",
    "andrey.titov@bigdatateam.org  \n",
    "Big Data Instructor @ BigData Team  \n",
    "https://bigdatateam.org"
   ]
  },
  {
   "cell_type": "markdown",
   "metadata": {},
   "source": [
    "## На этом занятии\n",
    "+ Общие сведения\n",
    "+ Базовые функции\n",
    "+ NA функции\n",
    "+ Группировки\n",
    "+ Чтение и запись данных\n",
    "+ Соединения\n",
    "+ Оконные функции\n",
    "+ Функции pyspark.sql.functions"
   ]
  },
  {
   "cell_type": "markdown",
   "metadata": {},
   "source": [
    "## Общие сведения\n",
    "\n",
    "**Dataframe:**\n",
    "+ структурированная колоночная структура данных\n",
    "+ может быть создана на основе:\n",
    "  - локальной коллекции\n",
    "  - файла (файлов)\n",
    "  - базы данных\n",
    "+ в python работает значительно быстрее, чем RDD\n",
    "+ под капотом использует RDD\n",
    "+ позволяет выполнять произвольные SQL операции с данными\n",
    "+ аналогично RDD являются ленивыми и неизменяеыми\n",
    "\n",
    "## Базовый SQL\n",
    "+ схема [pyspsark.sql.StructType](https://spark.apache.org/docs/latest/api/python/pyspark.sql.html#pyspark.sql.types.StructType)\n",
    "+ колонки [pyspark.sql.Column](https://spark.apache.org/docs/latest/api/python/pyspark.sql.html#pyspark.sql.Column)\n",
    "+ данные [pyspark.sql.Row](https://spark.apache.org/docs/latest/api/python/pyspark.sql.html#pyspark.sql.Row)"
   ]
  },
  {
   "cell_type": "markdown",
   "metadata": {},
   "source": [
    "Подготовим тестовый набор данных"
   ]
  },
  {
   "cell_type": "code",
   "execution_count": null,
   "metadata": {},
   "outputs": [],
   "source": []
  },
  {
   "cell_type": "code",
   "execution_count": 1,
   "metadata": {},
   "outputs": [],
   "source": [
    "import findspark\n",
    "findspark.init()\n",
    "import pyspark\n",
    "sc = pyspark.SparkContext(appName=\"dataframes\")"
   ]
  },
  {
   "cell_type": "code",
   "execution_count": 11,
   "metadata": {},
   "outputs": [],
   "source": [
    "from pyspark.sql import SparkSession\n",
    "spark = SparkSession.builder \\\n",
    "    .master(\"local[1]\") \\\n",
    "    .appName(\"PySpark Read JSON\") \\\n",
    "    .getOrCreate()"
   ]
  },
  {
   "cell_type": "code",
   "execution_count": 12,
   "metadata": {},
   "outputs": [
    {
     "data": {
      "text/plain": [
       "DataFrame[continent: string, country: string, name: string, population: bigint]"
      ]
     },
     "execution_count": 12,
     "metadata": {},
     "output_type": "execute_result"
    }
   ],
   "source": [
    "from pyspark.sql.functions import *\n",
    "\n",
    "test_data = [\n",
    "{\"name\":\"Moscow\", \"country\":\"Rossiya\", \"continent\": \"Europe\", \"population\": 12380664},\n",
    "{ \"name\":\"Madrid\", \"country\":\"Spain\" },\n",
    "{ \"name\":\"Paris\", \"country\":\"France\", \"continent\": \"Europe\", \"population\" : 2196936},\n",
    "{ \"name\":\"Berlin\", \"country\":\"Germany\", \"continent\": \"Europe\", \"population\": 3490105},\n",
    "{ \"name\":\"Barselona\", \"country\":\"Spain\", \"continent\": \"Europe\" },\n",
    "{ \"name\":\"Cairo\", \"country\":\"Egypt\", \"continent\": \"Africa\", \"population\": 11922948 },\n",
    "{ \"name\":\"Cairo\", \"country\":\"Egypt\", \"continent\": \"Africa\", \"population\": 11922948 },\n",
    "{ }\n",
    "]\n",
    "\n",
    "rdd = sc.parallelize(test_data)\n",
    "df = spark.read.json(rdd)\n",
    "df"
   ]
  },
  {
   "cell_type": "markdown",
   "metadata": {},
   "source": [
    "Метод `show` выводит часть датафрейма в консоль"
   ]
  },
  {
   "cell_type": "code",
   "execution_count": 13,
   "metadata": {},
   "outputs": [
    {
     "name": "stdout",
     "output_type": "stream",
     "text": [
      "+---------+-------+---------+----------+\n",
      "|continent|country|name     |population|\n",
      "+---------+-------+---------+----------+\n",
      "|Europe   |Rossiya|Moscow   |12380664  |\n",
      "|null     |Spain  |Madrid   |null      |\n",
      "|Europe   |France |Paris    |2196936   |\n",
      "|Europe   |Germany|Berlin   |3490105   |\n",
      "|Europe   |Spain  |Barselona|null      |\n",
      "|Africa   |Egypt  |Cairo    |11922948  |\n",
      "|Africa   |Egypt  |Cairo    |11922948  |\n",
      "|null     |null   |null     |null      |\n",
      "+---------+-------+---------+----------+\n",
      "\n"
     ]
    }
   ],
   "source": [
    "df.show(10, False) # смотрит на одну из партиций (случайную), если в них данных меньше чем мы указали\n",
    "                   # идет в следующую партицию, затем данные передаются на драйвер\n",
    "                   # false обрезает длинные строки"
   ]
  },
  {
   "cell_type": "markdown",
   "metadata": {},
   "source": [
    "Метод `printSchema` выводит схему датафрейма в консоль"
   ]
  },
  {
   "cell_type": "code",
   "execution_count": 14,
   "metadata": {},
   "outputs": [
    {
     "name": "stdout",
     "output_type": "stream",
     "text": [
      "root\n",
      " |-- continent: string (nullable = true)\n",
      " |-- country: string (nullable = true)\n",
      " |-- name: string (nullable = true)\n",
      " |-- population: long (nullable = true)\n",
      "\n"
     ]
    }
   ],
   "source": [
    "df.printSchema() # поддерживает сложные структуры"
   ]
  },
  {
   "cell_type": "markdown",
   "metadata": {},
   "source": [
    "Метод `select` позволяет выбрать существующие (а также создать новые) колонки из датафрейма"
   ]
  },
  {
   "cell_type": "code",
   "execution_count": 15,
   "metadata": {},
   "outputs": [
    {
     "name": "stdout",
     "output_type": "stream",
     "text": [
      "+---------+-------+\n",
      "|continent|country|\n",
      "+---------+-------+\n",
      "|Europe   |Rossiya|\n",
      "|null     |Spain  |\n",
      "|Europe   |France |\n",
      "|Europe   |Germany|\n",
      "|Europe   |Spain  |\n",
      "|Africa   |Egypt  |\n",
      "|Africa   |Egypt  |\n",
      "|null     |null   |\n",
      "+---------+-------+\n",
      "\n"
     ]
    }
   ],
   "source": [
    "from pyspark.sql.functions import *\n",
    "\n",
    "df.select(col(\"continent\"), col(\"country\")).show(10, False)"
   ]
  },
  {
   "cell_type": "markdown",
   "metadata": {},
   "source": [
    "Метод `filter` позволяет фильтровать датасет:"
   ]
  },
  {
   "cell_type": "code",
   "execution_count": 16,
   "metadata": {},
   "outputs": [
    {
     "name": "stdout",
     "output_type": "stream",
     "text": [
      "+---------+-------+---------+----------+\n",
      "|continent|country|name     |population|\n",
      "+---------+-------+---------+----------+\n",
      "|Europe   |Rossiya|Moscow   |12380664  |\n",
      "|Europe   |France |Paris    |2196936   |\n",
      "|Europe   |Germany|Berlin   |3490105   |\n",
      "|Europe   |Spain  |Barselona|null      |\n",
      "+---------+-------+---------+----------+\n",
      "\n"
     ]
    }
   ],
   "source": [
    "df.filter(col(\"continent\") == \"Europe\").show(10, False)"
   ]
  },
  {
   "cell_type": "markdown",
   "metadata": {},
   "source": [
    "Параллелизм обработки данных зависит от количества партиций в датасете:"
   ]
  },
  {
   "cell_type": "code",
   "execution_count": 17,
   "metadata": {},
   "outputs": [
    {
     "data": {
      "text/plain": [
       "8"
      ]
     },
     "execution_count": 17,
     "metadata": {},
     "output_type": "execute_result"
    }
   ],
   "source": [
    "df.rdd.getNumPartitions()"
   ]
  },
  {
   "cell_type": "markdown",
   "metadata": {},
   "source": [
    "## Очистка данных\n",
    "Удалим дубликаты. По умолчанию метод `dropDuplicates` удаляет дубликаты строк, у которых ВСЕ колонки совпадают"
   ]
  },
  {
   "cell_type": "code",
   "execution_count": 18,
   "metadata": {},
   "outputs": [
    {
     "name": "stdout",
     "output_type": "stream",
     "text": [
      "+---------+-------+---------+----------+\n",
      "|continent|country|name     |population|\n",
      "+---------+-------+---------+----------+\n",
      "|Europe   |Rossiya|Moscow   |12380664  |\n",
      "|null     |null   |null     |null      |\n",
      "|null     |Spain  |Madrid   |null      |\n",
      "|Europe   |Spain  |Barselona|null      |\n",
      "|Europe   |France |Paris    |2196936   |\n",
      "|Europe   |Germany|Berlin   |3490105   |\n",
      "|Africa   |Egypt  |Cairo    |11922948  |\n",
      "+---------+-------+---------+----------+\n",
      "\n"
     ]
    }
   ],
   "source": [
    "df.dropDuplicates().show(10, False) # возникает неявный shufl"
   ]
  },
  {
   "cell_type": "markdown",
   "metadata": {},
   "source": [
    "Метод `.na.drop` удаляет СТРОКИ, в которых отсутствует часть данных. Параметр `how=\"all\"` означает, что будут удалены строки, у которых ВСЕ колонки `null`"
   ]
  },
  {
   "cell_type": "code",
   "execution_count": 19,
   "metadata": {},
   "outputs": [
    {
     "name": "stdout",
     "output_type": "stream",
     "text": [
      "+---------+-------+---------+----------+\n",
      "|continent|country|name     |population|\n",
      "+---------+-------+---------+----------+\n",
      "|Europe   |Rossiya|Moscow   |12380664  |\n",
      "|null     |Spain  |Madrid   |null      |\n",
      "|Europe   |Spain  |Barselona|null      |\n",
      "|Europe   |France |Paris    |2196936   |\n",
      "|Europe   |Germany|Berlin   |3490105   |\n",
      "|Africa   |Egypt  |Cairo    |11922948  |\n",
      "+---------+-------+---------+----------+\n",
      "\n"
     ]
    }
   ],
   "source": [
    "df.dropDuplicates().na.drop(how=\"all\").show(10, False)  # shuffle не требуется"
   ]
  },
  {
   "cell_type": "markdown",
   "metadata": {},
   "source": [
    "Метод `.na.fill` заполняет `null`. Для работы этого метода требуется словарь с изменениями"
   ]
  },
  {
   "cell_type": "code",
   "execution_count": 20,
   "metadata": {},
   "outputs": [
    {
     "name": "stdout",
     "output_type": "stream",
     "text": [
      "+---------+-------+---------+----------+\n",
      "|continent|country|name     |population|\n",
      "+---------+-------+---------+----------+\n",
      "|Europe   |Rossiya|Moscow   |12380664  |\n",
      "|n/a      |Spain  |Madrid   |0         |\n",
      "|Europe   |Spain  |Barselona|0         |\n",
      "|Europe   |France |Paris    |2196936   |\n",
      "|Europe   |Germany|Berlin   |3490105   |\n",
      "|Africa   |Egypt  |Cairo    |11922948  |\n",
      "+---------+-------+---------+----------+\n",
      "\n"
     ]
    }
   ],
   "source": [
    "fill_dict = {'continent': 'n/a', 'population': 0 }\n",
    "\n",
    "df.dropDuplicates().na.drop(how=\"all\").na.fill(fill_dict).show(10, False)"
   ]
  },
  {
   "cell_type": "markdown",
   "metadata": {},
   "source": [
    "Метод `.na.replace` заменяет данные в колонках. Для его работы требуется словарь с заменами"
   ]
  },
  {
   "cell_type": "code",
   "execution_count": 21,
   "metadata": {},
   "outputs": [
    {
     "name": "stdout",
     "output_type": "stream",
     "text": [
      "+---------+-------+---------+----------+\n",
      "|continent|country|name     |population|\n",
      "+---------+-------+---------+----------+\n",
      "|Europe   |Russia |Moscow   |12380664  |\n",
      "|n/a      |Spain  |Madrid   |0         |\n",
      "|Europe   |Spain  |Barselona|0         |\n",
      "|Europe   |France |Paris    |2196936   |\n",
      "|Europe   |Germany|Berlin   |3490105   |\n",
      "|Africa   |Egypt  |Cairo    |11922948  |\n",
      "+---------+-------+---------+----------+\n",
      "\n"
     ]
    }
   ],
   "source": [
    "replace_dict = {\"Rossiya\": \"Russia\"}\n",
    "\n",
    "df.dropDuplicates().na.drop(\"all\").na.fill(fill_dict).na.replace(replace_dict).show(10, False)"
   ]
  },
  {
   "cell_type": "markdown",
   "metadata": {},
   "source": [
    "Подготровим датафрейм с очищенными данными"
   ]
  },
  {
   "cell_type": "code",
   "execution_count": 22,
   "metadata": {},
   "outputs": [],
   "source": [
    "from pyspark.sql.functions import col\n",
    "\n",
    "clean_data = df \\\n",
    "                .dropDuplicates() \\\n",
    "                .na.drop(\"all\") \\\n",
    "                .na.fill(fill_dict) \\\n",
    "                .na.replace(replace_dict) \\\n",
    "                .filter(col(\"population\") >= 0) \\\n",
    "                .select(col(\"continent\"), col(\"country\"), col(\"name\"), col(\"population\"))"
   ]
  },
  {
   "cell_type": "code",
   "execution_count": 23,
   "metadata": {},
   "outputs": [
    {
     "name": "stdout",
     "output_type": "stream",
     "text": [
      "+---------+-------+---------+----------+\n",
      "|continent|country|name     |population|\n",
      "+---------+-------+---------+----------+\n",
      "|Europe   |Russia |Moscow   |12380664  |\n",
      "|n/a      |Spain  |Madrid   |0         |\n",
      "|Europe   |Spain  |Barselona|0         |\n",
      "|Europe   |France |Paris    |2196936   |\n",
      "|Europe   |Germany|Berlin   |3490105   |\n",
      "|Africa   |Egypt  |Cairo    |11922948  |\n",
      "+---------+-------+---------+----------+\n",
      "\n"
     ]
    }
   ],
   "source": [
    "clean_data.show(10, False)"
   ]
  },
  {
   "cell_type": "code",
   "execution_count": 24,
   "metadata": {},
   "outputs": [
    {
     "name": "stdout",
     "output_type": "stream",
     "text": [
      "root\n",
      " |-- continent: string (nullable = false)\n",
      " |-- country: string (nullable = true)\n",
      " |-- name: string (nullable = true)\n",
      " |-- population: long (nullable = false)\n",
      "\n"
     ]
    }
   ],
   "source": [
    "clean_data.printSchema()"
   ]
  },
  {
   "cell_type": "markdown",
   "metadata": {},
   "source": [
    "# Группировки\n",
    "\n",
    "Подготовим базовый агрегат. По умолчанию имена колонок принимают неудобные названия"
   ]
  },
  {
   "cell_type": "code",
   "execution_count": 25,
   "metadata": {},
   "outputs": [
    {
     "name": "stdout",
     "output_type": "stream",
     "text": [
      "+---------+--------+---------------+\n",
      "|continent|count(1)|sum(population)|\n",
      "+---------+--------+---------------+\n",
      "|Europe   |4       |18067705       |\n",
      "|Africa   |1       |11922948       |\n",
      "|n/a      |1       |0              |\n",
      "+---------+--------+---------------+\n",
      "\n"
     ]
    }
   ],
   "source": [
    "from pyspark.sql.functions import count, sum\n",
    "### вызывет shuffle, все строки с одинаковым континетном помещаются в одну партицию\n",
    "### groupBy работает в два этапа, сначала группировка внутри партиции а затем между партициями\n",
    "agg = clean_data.groupBy(\"continent\").agg(count(\"*\"), sum(col(\"population\")))\n",
    "agg.show(10, False)"
   ]
  },
  {
   "cell_type": "markdown",
   "metadata": {},
   "source": [
    "Метод `alias` позволяет переименовывать колонки"
   ]
  },
  {
   "cell_type": "code",
   "execution_count": 26,
   "metadata": {},
   "outputs": [
    {
     "name": "stdout",
     "output_type": "stream",
     "text": [
      "+---------+----------+--------------+\n",
      "|continent|city_count|population_sum|\n",
      "+---------+----------+--------------+\n",
      "|europe   |4         |18067705      |\n",
      "|africa   |1         |11922948      |\n",
      "|n/a      |1         |0             |\n",
      "+---------+----------+--------------+\n",
      "\n"
     ]
    }
   ],
   "source": [
    "from pyspark.sql.functions import count, sum, lower\n",
    "\n",
    "pop_count = count(\"*\").alias(\"city_count\")\n",
    "pop_sum = sum(col(\"population\")).alias(\"population_sum\")\n",
    "\n",
    "agg = clean_data \\\n",
    "            .groupBy(\"continent\") \\\n",
    "            .agg(pop_count, pop_sum) \\\n",
    "            .withColumn(\"continent\", lower(col(\"continent\")))\n",
    "\n",
    "agg.show(10, False)"
   ]
  },
  {
   "cell_type": "markdown",
   "metadata": {},
   "source": [
    "## Чтение данных из источника\n",
    "Основной метод чтения любых источников\n",
    "\n",
    "```df = spark.read.format(datasource_type).option(datasource_options).load(object_name)```\n",
    "\n",
    "+ ```datasource_type``` - тип источника (\"parquet\", \"json\", \"cassandra\") и т. д.\n",
    "+ ```datasource_options``` - опции для работы с источником (логины, пароли, адреса для подключения и т. д.)\n",
    "+ ```object_name``` - имя таблицы/файла/топика/индекса\n",
    "\n",
    "[DataframeReader](https://spark.apache.org/docs/latest/api/python/pyspark.sql.html#pyspark.sql.DataFrameReader):\n",
    "+ по умолчанию выводит схему данных\n",
    "+ является трансформацией (ленивый)\n",
    "+ возвращает [Dataframe](https://spark.apache.org/docs/latest/api/python/pyspark.sql.html#pyspark.sql.DataFrame)\n",
    "\n",
    "### Список (неполный) поддерживаемых источников данных\n",
    "+ Файлы:\n",
    "  - json\n",
    "  - text\n",
    "  - csv\n",
    "  - orc\n",
    "  - parquet\n",
    "  - delta\n",
    "+ Базы данных\n",
    "  - elasticsearch\n",
    "  - cassandra\n",
    "  - jdbc\n",
    "  - hive\n",
    "  - redis\n",
    "  - mongo\n",
    "+ Брокеры сообщений\n",
    "  - kafka\n",
    "  \n",
    "\n",
    "**Библиотеки для работы с источниками должны быть доступны в JAVA CLASSPATH на драйвере и воркерах!**"
   ]
  },
  {
   "cell_type": "code",
   "execution_count": 27,
   "metadata": {},
   "outputs": [],
   "source": [
    "df = spark.read.format(\"csv\").options(header=True, inferSchema=True).load(\"airport-codes.csv\")"
   ]
  },
  {
   "cell_type": "code",
   "execution_count": 28,
   "metadata": {},
   "outputs": [
    {
     "name": "stdout",
     "output_type": "stream",
     "text": [
      "root\n",
      " |-- ident: string (nullable = true)\n",
      " |-- type: string (nullable = true)\n",
      " |-- name: string (nullable = true)\n",
      " |-- elevation_ft: integer (nullable = true)\n",
      " |-- continent: string (nullable = true)\n",
      " |-- iso_country: string (nullable = true)\n",
      " |-- iso_region: string (nullable = true)\n",
      " |-- municipality: string (nullable = true)\n",
      " |-- gps_code: string (nullable = true)\n",
      " |-- iata_code: string (nullable = true)\n",
      " |-- local_code: string (nullable = true)\n",
      " |-- coordinates: string (nullable = true)\n",
      "\n"
     ]
    }
   ],
   "source": [
    "df.printSchema()"
   ]
  },
  {
   "cell_type": "code",
   "execution_count": 29,
   "metadata": {},
   "outputs": [
    {
     "name": "stdout",
     "output_type": "stream",
     "text": [
      "-RECORD 0------------------------------------------\n",
      " ident        | 00A                                \n",
      " type         | heliport                           \n",
      " name         | Total Rf Heliport                  \n",
      " elevation_ft | 11                                 \n",
      " continent    | NA                                 \n",
      " iso_country  | US                                 \n",
      " iso_region   | US-PA                              \n",
      " municipality | Bensalem                           \n",
      " gps_code     | 00A                                \n",
      " iata_code    | null                               \n",
      " local_code   | 00A                                \n",
      " coordinates  | -74.93360137939453, 40.07080078125 \n",
      "only showing top 1 row\n",
      "\n"
     ]
    }
   ],
   "source": [
    "df.show(n=1, truncate=False, vertical=True)"
   ]
  },
  {
   "cell_type": "markdown",
   "metadata": {},
   "source": [
    "## Запись данных\n",
    "Основной метод записи в любые системы\n",
    "\n",
    "```df.write.format(datasource_type).options(datasource_options).mode(savemode).save(object_name)```\n",
    "\n",
    "+ ```datasource_type``` - тип источника (\"parquet\", \"json\", \"cassandra\") и т. д.\n",
    "+ ```datasource_options``` - опции для работы с источником (логины, пароли, адреса для подключения и т. д.)\n",
    "+ ```savemode``` - режим записи данных (добавление, перезапись и т. д.)\n",
    "+ ```object_name``` - имя таблицы/файла/топика/индекса\n",
    "\n",
    "[DataFrameWriter](https://spark.apache.org/docs/latest/api/python/pyspark.sql.html#pyspark.sql.DataFrameWriter):\n",
    "+ метод ```save``` является действием\n",
    "+ позволяет работать с партиционированными данными (parquet, orc)\n",
    "+ не всегда валидирует схему и формат данных\n",
    "\n",
    "\n",
    "### Список (неполный) поддерживаемых источников данных\n",
    "+ Файлы:\n",
    "  - json\n",
    "  - text\n",
    "  - csv\n",
    "  - orc\n",
    "  - parquet\n",
    "  - delta\n",
    "+ Базы данных\n",
    "  - elasticsearch\n",
    "  - cassandra\n",
    "  - jdbc\n",
    "  - hive\n",
    "  - redis\n",
    "  - mongo\n",
    "+ Брокеры сообщений\n",
    "  - kafka\n",
    "  \n",
    "\n",
    "**Библиотеки для работы с источниками должны быть доступны в JAVA CLASSPATH на драйвере и воркерах!**\n",
    "\n"
   ]
  },
  {
   "cell_type": "code",
   "execution_count": 46,
   "metadata": {},
   "outputs": [
    {
     "name": "stdout",
     "output_type": "stream",
     "text": [
      "+---------+----------+--------------+\n",
      "|continent|city_count|population_sum|\n",
      "+---------+----------+--------------+\n",
      "|   europe|         4|      18067705|\n",
      "|   africa|         1|      11922948|\n",
      "|      n/a|         1|             0|\n",
      "+---------+----------+--------------+\n",
      "\n"
     ]
    }
   ],
   "source": [
    "agg.show(5)"
   ]
  },
  {
   "cell_type": "code",
   "execution_count": null,
   "metadata": {},
   "outputs": [],
   "source": []
  },
  {
   "cell_type": "code",
   "execution_count": null,
   "metadata": {},
   "outputs": [],
   "source": [
    "condition = col(\"continent\") != \"n/a\"\n",
    "\n",
    "agg \\\n",
    "    .filter(condition) \\\n",
    "    .write \\\n",
    "    .json(\"agg0.json\")\n",
    "\n",
    "print(\"Ok! Data is written to {}\".format(\"agg0.parquet\"))"
   ]
  },
  {
   "cell_type": "code",
   "execution_count": 33,
   "metadata": {},
   "outputs": [
    {
     "name": "stdout",
     "output_type": "stream",
     "text": [
      "<class 'pyspark.sql.column.Column'>\n",
      "<class 'function'>\n"
     ]
    }
   ],
   "source": [
    "# P.S.\n",
    "# Когда мы делаем .filter в DataFrame API, мы передаем условие типа pyspark.sql.column.Column.\n",
    "print(type(condition))\n",
    "\n",
    "# когда раньше мы использовали лямбда функции в RDD, мы передавали лямбда функцию:\n",
    "condition_old = lambda x: x != \"Earth\"\n",
    "print(type(condition_old))"
   ]
  },
  {
   "cell_type": "markdown",
   "metadata": {},
   "source": [
    "## Соединения\n",
    "\n",
    "Join'ы позволяют соединять два DF в один по заданным условиям.\n",
    "\n",
    "По типу условия join'ы делятся на:\n",
    "+ equ-join - соединение по равенству одного или более ключей\n",
    "+ non-equ join - соединение по условию, отличному от равенства одного или более ключей\n",
    "\n",
    "По методу соединения join'ы бывают:\n",
    "![Joins](http://kirillpavlov.com/images/join-types.png)\n",
    "[Источник](http://kirillpavlov.com/blog/2016/04/23/beyond-traditional-join-with-apache-spark/)\n",
    "\n",
    "При выполнении join Spark автоматически выбирает один [из доступных алгоритмов](https://youtu.be/fp53QhSfQcI) соединения и не всегда делает это оптимально, часто применяя cross join. Поэтому, в последних версиях Spark метод ```join()``` приведет к ошибке, если под капотом он будет использовать cross join. Отключить эту проверку можно с помощью опции ```--conf spark.sql.crossJoin.enabled=true```"
   ]
  },
  {
   "cell_type": "code",
   "execution_count": 48,
   "metadata": {},
   "outputs": [
    {
     "name": "stdout",
     "output_type": "stream",
     "text": [
      "root\n",
      " |-- continent: string (nullable = false)\n",
      " |-- country: string (nullable = true)\n",
      " |-- name: string (nullable = true)\n",
      " |-- population: long (nullable = false)\n",
      "\n",
      "root\n",
      " |-- continent: string (nullable = false)\n",
      " |-- city_count: long (nullable = false)\n",
      " |-- population_sum: long (nullable = true)\n",
      "\n"
     ]
    }
   ],
   "source": [
    "# Для демонстрации работы join используем подгтовленные данные\n",
    "left = clean_data.withColumn(\"continent\", lower(col(\"continent\")))\n",
    "left.printSchema()\n",
    "\n",
    "right = agg.filter(condition)\n",
    "right.printSchema()"
   ]
  },
  {
   "cell_type": "markdown",
   "metadata": {},
   "source": [
    "Самый простой join - inner join по равенству одной колонки"
   ]
  },
  {
   "cell_type": "code",
   "execution_count": 49,
   "metadata": {},
   "outputs": [
    {
     "name": "stdout",
     "output_type": "stream",
     "text": [
      "root\n",
      " |-- continent: string (nullable = false)\n",
      " |-- country: string (nullable = true)\n",
      " |-- name: string (nullable = true)\n",
      " |-- population: long (nullable = false)\n",
      " |-- city_count: long (nullable = false)\n",
      " |-- population_sum: long (nullable = true)\n",
      "\n",
      "+---------+-------+---------+----------+----------+--------------+\n",
      "|continent|country|name     |population|city_count|population_sum|\n",
      "+---------+-------+---------+----------+----------+--------------+\n",
      "|europe   |Russia |Moscow   |12380664  |4         |18067705      |\n",
      "|europe   |Spain  |Barselona|0         |4         |18067705      |\n",
      "|europe   |France |Paris    |2196936   |4         |18067705      |\n",
      "|europe   |Germany|Berlin   |3490105   |4         |18067705      |\n",
      "|africa   |Egypt  |Cairo    |11922948  |1         |11922948      |\n",
      "+---------+-------+---------+----------+----------+--------------+\n",
      "\n"
     ]
    }
   ],
   "source": [
    "joined = left.join(right, on='continent', how='inner')\n",
    "\n",
    "joined.printSchema()\n",
    "\n",
    "joined.show(10, False)"
   ]
  },
  {
   "cell_type": "markdown",
   "metadata": {},
   "source": [
    "Inner join по равенству двух колонок. Поскольку двух одинаковых колонок у нас нет, мы создадим их, используя константу"
   ]
  },
  {
   "cell_type": "code",
   "execution_count": 50,
   "metadata": {
    "scrolled": true
   },
   "outputs": [
    {
     "name": "stdout",
     "output_type": "stream",
     "text": [
      "root\n",
      " |-- continent: string (nullable = false)\n",
      " |-- x: string (nullable = false)\n",
      " |-- country: string (nullable = true)\n",
      " |-- name: string (nullable = true)\n",
      " |-- population: long (nullable = false)\n",
      " |-- city_count: long (nullable = false)\n",
      " |-- population_sum: long (nullable = true)\n",
      "\n",
      "+---------+---+-------+---------+----------+----------+--------------+\n",
      "|continent|  x|country|     name|population|city_count|population_sum|\n",
      "+---------+---+-------+---------+----------+----------+--------------+\n",
      "|   europe|  x| Russia|   Moscow|  12380664|         4|      18067705|\n",
      "|   europe|  x|  Spain|Barselona|         0|         4|      18067705|\n",
      "|   europe|  x| France|    Paris|   2196936|         4|      18067705|\n",
      "|   europe|  x|Germany|   Berlin|   3490105|         4|      18067705|\n",
      "|   africa|  x|  Egypt|    Cairo|  11922948|         1|      11922948|\n",
      "+---------+---+-------+---------+----------+----------+--------------+\n",
      "\n"
     ]
    }
   ],
   "source": [
    "from pyspark.sql.functions import lit\n",
    "\n",
    "new_col = lit(\"x\").alias(\"x\")\n",
    "\n",
    "left = left.select(col(\"*\"), new_col)\n",
    "right = right.select(col(\"*\"), new_col)\n",
    "\n",
    "joined = left.join(right, ['continent', 'x'], 'inner')\n",
    "\n",
    "joined.printSchema()\n",
    "\n",
    "joined.show()"
   ]
  },
  {
   "cell_type": "markdown",
   "metadata": {},
   "source": [
    "## non-equ left join"
   ]
  },
  {
   "cell_type": "code",
   "execution_count": 51,
   "metadata": {},
   "outputs": [
    {
     "name": "stdout",
     "output_type": "stream",
     "text": [
      "+--------------+-------+---------+----------+---+--------------+---------------+----------+--------------+\n",
      "|continent_left|country|     name|population|  x|city_count_max|continent_right|city_count|population_sum|\n",
      "+--------------+-------+---------+----------+---+--------------+---------------+----------+--------------+\n",
      "|        europe| Russia|   Moscow|  12380664|  x|             2|           null|      null|          null|\n",
      "|        europe|  Spain|Barselona|         0|  x|             2|           null|      null|          null|\n",
      "|        europe| France|    Paris|   2196936|  x|             2|           null|      null|          null|\n",
      "|        europe|Germany|   Berlin|   3490105|  x|             2|           null|      null|          null|\n",
      "|           n/a|  Spain|   Madrid|         0|  x|             2|            n/a|         1|             0|\n",
      "|        africa|  Egypt|    Cairo|  11922948|  x|             2|         africa|         1|      11922948|\n",
      "+--------------+-------+---------+----------+---+--------------+---------------+----------+--------------+\n",
      "\n"
     ]
    }
   ],
   "source": [
    "from pyspark.sql.functions import lit\n",
    "\n",
    "left = left \\\n",
    "            .withColumn(\"city_count_max\", lit(2)) \\\n",
    "            .withColumnRenamed(\"continent\", \"continent_left\")\n",
    "\n",
    "right = agg.withColumnRenamed(\"continent\", \"continent_right\")\n",
    "\n",
    "join_condition = \\\n",
    "            (col(\"continent_left\") == col(\"continent_right\")) & (col(\"city_count\") < col(\"city_count_max\"))\n",
    "\n",
    "joined = left.join(right, join_condition, 'left')\n",
    "\n",
    "joined.show()"
   ]
  },
  {
   "cell_type": "code",
   "execution_count": 52,
   "metadata": {},
   "outputs": [
    {
     "name": "stdout",
     "output_type": "stream",
     "text": [
      "+---------+-------+------+----------+----+--------------+---------+----------+--------------+\n",
      "|continent|country|  name|population|   x|city_count_max|continent|city_count|population_sum|\n",
      "+---------+-------+------+----------+----+--------------+---------+----------+--------------+\n",
      "|     null|   null|  null|      null|null|          null|   europe|         4|      18067705|\n",
      "|      n/a|  Spain|Madrid|         0|   x|             2|      n/a|         1|             0|\n",
      "|   africa|  Egypt| Cairo|  11922948|   x|             2|   africa|         1|      11922948|\n",
      "+---------+-------+------+----------+----+--------------+---------+----------+--------------+\n",
      "\n"
     ]
    }
   ],
   "source": [
    "# non-equ right join\n",
    "from pyspark.sql.functions import expr\n",
    "\n",
    "left = left.withColumnRenamed(\"continent_left\", \"continent\").alias(\"left\")\n",
    "right = right.withColumnRenamed(\"continent_right\", \"continent\").alias(\"right\")\n",
    "\n",
    "join_condition = \"\"\" left.continent = right.continent AND right.city_count < left.city_count_max \"\"\"\n",
    "\n",
    "joined = left.join(right, expr(join_condition), 'right')\n",
    "\n",
    "joined.show()"
   ]
  },
  {
   "cell_type": "code",
   "execution_count": 53,
   "metadata": {
    "scrolled": true
   },
   "outputs": [
    {
     "name": "stdout",
     "output_type": "stream",
     "text": [
      "+---------+-------+---------+----------+---+--------------+---------+----------+--------------+\n",
      "|continent|country|name     |population|x  |city_count_max|continent|city_count|population_sum|\n",
      "+---------+-------+---------+----------+---+--------------+---------+----------+--------------+\n",
      "|europe   |Russia |Moscow   |12380664  |x  |2             |europe   |4         |18067705      |\n",
      "|europe   |Russia |Moscow   |12380664  |x  |2             |africa   |1         |11922948      |\n",
      "|europe   |Russia |Moscow   |12380664  |x  |2             |n/a      |1         |0             |\n",
      "|n/a      |Spain  |Madrid   |0         |x  |2             |europe   |4         |18067705      |\n",
      "|n/a      |Spain  |Madrid   |0         |x  |2             |africa   |1         |11922948      |\n",
      "|n/a      |Spain  |Madrid   |0         |x  |2             |n/a      |1         |0             |\n",
      "|europe   |Spain  |Barselona|0         |x  |2             |europe   |4         |18067705      |\n",
      "|europe   |Spain  |Barselona|0         |x  |2             |africa   |1         |11922948      |\n",
      "|europe   |Spain  |Barselona|0         |x  |2             |n/a      |1         |0             |\n",
      "|europe   |France |Paris    |2196936   |x  |2             |europe   |4         |18067705      |\n",
      "|europe   |France |Paris    |2196936   |x  |2             |africa   |1         |11922948      |\n",
      "|europe   |France |Paris    |2196936   |x  |2             |n/a      |1         |0             |\n",
      "|europe   |Germany|Berlin   |3490105   |x  |2             |europe   |4         |18067705      |\n",
      "|europe   |Germany|Berlin   |3490105   |x  |2             |africa   |1         |11922948      |\n",
      "|europe   |Germany|Berlin   |3490105   |x  |2             |n/a      |1         |0             |\n",
      "|africa   |Egypt  |Cairo    |11922948  |x  |2             |europe   |4         |18067705      |\n",
      "|africa   |Egypt  |Cairo    |11922948  |x  |2             |africa   |1         |11922948      |\n",
      "|africa   |Egypt  |Cairo    |11922948  |x  |2             |n/a      |1         |0             |\n",
      "+---------+-------+---------+----------+---+--------------+---------+----------+--------------+\n",
      "\n"
     ]
    }
   ],
   "source": [
    "left.crossJoin(right).show(30, False)"
   ]
  },
  {
   "cell_type": "markdown",
   "metadata": {},
   "source": [
    "## Оконные функции\n",
    "\n",
    "Оконные функции позволяют делать функции над \"окнами\" (кто бы мог подумать) данных\n",
    "\n",
    "Окно создается из класса [pyspark.sql.Window](https://spark.apache.org/docs/latest/api/python/pyspark.sql.html#pyspark.sql.Window) с указанием полей, определяющих границы окон и полей, определяющих порядок сортировки внутри окна:\n",
    "\n",
    "```window = Window.partitionBy(\"a\", \"b\").orderBy(\"a\")```\n",
    "\n",
    "Применяя окна, можно использовать такие полезные функции из [pyspark.sql.functions](https://spark.apache.org/docs/latest/api/python/pyspark.sql.html#module-pyspark.sql.functions), как ```lag()``` и ```lead()```, а также эффективно работать с данными time-series, вычисляя такие параметры, как, например, среднее значение заданного поля за 3-х часовой интервал"
   ]
  },
  {
   "cell_type": "code",
   "execution_count": 54,
   "metadata": {},
   "outputs": [
    {
     "name": "stdout",
     "output_type": "stream",
     "text": [
      "+---------+-------+---------+----------+----------+--------------+\n",
      "|continent|country|     name|population|city_count|population_sum|\n",
      "+---------+-------+---------+----------+----------+--------------+\n",
      "|   Europe| Russia|   Moscow|  12380664|         4|      18067705|\n",
      "|   Europe|  Spain|Barselona|         0|         4|      18067705|\n",
      "|   Europe| France|    Paris|   2196936|         4|      18067705|\n",
      "|   Europe|Germany|   Berlin|   3490105|         4|      18067705|\n",
      "|   Africa|  Egypt|    Cairo|  11922948|         1|      11922948|\n",
      "|      n/a|  Spain|   Madrid|         0|         1|             0|\n",
      "+---------+-------+---------+----------+----------+--------------+\n",
      "\n"
     ]
    }
   ],
   "source": [
    "# В нашем случае, используя оконные функции, мы можем построить DF из предыдущих примеров c join, \n",
    "# но без использования соединения\n",
    "\n",
    "from pyspark.sql import Window\n",
    "import pyspark.sql.functions as F\n",
    "\n",
    "window = Window.partitionBy(\"continent\")\n",
    "\n",
    "agg = clean_data \\\n",
    "    .withColumn(\"city_count\", F.count(\"*\").over(window)) \\\n",
    "    .withColumn(\"population_sum\", F.sum(\"population\").over(window)) \\\n",
    "\n",
    "agg.show()"
   ]
  },
  {
   "cell_type": "markdown",
   "metadata": {},
   "source": [
    "## Функции pyspark.sql.functions\n",
    "\n",
    "Spark обладает достаточно большим набором встроенных функций, доступных в [pyspark.sql.functions](https://spark.apache.org/docs/latest/api/python/pyspark.sql.html#module-pyspark.sql.functions), поэтому перед тем, как писать свою UDF, стоит обязательно поискать нужную функцию в данном пакете.\n",
    "\n",
    "К тому же, все функции Spark принимают на вход и возвращают [pyspark.sql.Column](https://spark.apache.org/docs/latest/api/python/pyspark.sql.html#pyspark.sql.Column), а это значит, что вы можете совмещать функции вместе\n",
    "\n",
    "**Также важно помнить, что функции и колонки в Spark могут быть созданы без привязки к конкретным данным и DF**"
   ]
  },
  {
   "cell_type": "code",
   "execution_count": 55,
   "metadata": {},
   "outputs": [
    {
     "name": "stdout",
     "output_type": "stream",
     "text": [
      "+---------+-------+---------+----------+----------+--------------+---------------------+\n",
      "|continent|country|name     |population|city_count|population_sum|avg_pop              |\n",
      "+---------+-------+---------+----------+----------+--------------+---------------------+\n",
      "|Europe   |Russia |Moscow   |12380664  |4         |18067705      |{\"value\":4516926.25} |\n",
      "|Europe   |Spain  |Barselona|0         |4         |18067705      |{\"value\":4516926.25} |\n",
      "|Europe   |France |Paris    |2196936   |4         |18067705      |{\"value\":4516926.25} |\n",
      "|Europe   |Germany|Berlin   |3490105   |4         |18067705      |{\"value\":4516926.25} |\n",
      "|Africa   |Egypt  |Cairo    |11922948  |1         |11922948      |{\"value\":1.1922948E7}|\n",
      "|n/a      |Spain  |Madrid   |0         |1         |0             |{\"value\":0.0}        |\n",
      "+---------+-------+---------+----------+----------+--------------+---------------------+\n",
      "\n"
     ]
    }
   ],
   "source": [
    "from pyspark.sql.functions import to_json, col, struct\n",
    "\n",
    "avg_pop = \\\n",
    "    to_json(\n",
    "        struct(\n",
    "            (col(\"population_sum\") / col(\"city_count\")).alias(\"value\")\n",
    "        )\n",
    "    ).alias(\"avg_pop\")\n",
    "\n",
    "agg.select(col(\"*\"), avg_pop).show(truncate=False)\n"
   ]
  },
  {
   "cell_type": "code",
   "execution_count": 56,
   "metadata": {},
   "outputs": [
    {
     "name": "stdout",
     "output_type": "stream",
     "text": [
      "root\n",
      " |-- allinone: struct (nullable = false)\n",
      " |    |-- continent: string (nullable = false)\n",
      " |    |-- country: string (nullable = true)\n",
      " |    |-- name: string (nullable = true)\n",
      " |    |-- population: long (nullable = false)\n",
      " |    |-- city_count: long (nullable = false)\n",
      " |    |-- population_sum: long (nullable = true)\n",
      "\n",
      "+-----------------------------------------------+\n",
      "|allinone                                       |\n",
      "+-----------------------------------------------+\n",
      "|{Europe, Russia, Moscow, 12380664, 4, 18067705}|\n",
      "|{Europe, Spain, Barselona, 0, 4, 18067705}     |\n",
      "|{Europe, France, Paris, 2196936, 4, 18067705}  |\n",
      "|{Europe, Germany, Berlin, 3490105, 4, 18067705}|\n",
      "|{Africa, Egypt, Cairo, 11922948, 1, 11922948}  |\n",
      "|{n/a, Spain, Madrid, 0, 1, 0}                  |\n",
      "+-----------------------------------------------+\n",
      "\n"
     ]
    }
   ],
   "source": [
    "# Большим преимуществом Spark по сравнению с большинством SQL ориентированных БД является наличие\n",
    "# встроенных функций работы со списками, словарями и структурами данных\n",
    "\n",
    "from pyspark.sql.functions import *\n",
    "\n",
    "all_in_one = agg.select(struct(*agg.columns).alias(\"allinone\"))\n",
    "\n",
    "all_in_one.printSchema()\n",
    "all_in_one.show(20, False)"
   ]
  },
  {
   "cell_type": "code",
   "execution_count": 57,
   "metadata": {},
   "outputs": [
    {
     "name": "stdout",
     "output_type": "stream",
     "text": [
      "+------------------+\n",
      "|c                 |\n",
      "+------------------+\n",
      "|[1, 2, 3, 4, 5, 6]|\n",
      "+------------------+\n",
      "\n"
     ]
    }
   ],
   "source": [
    "# Например, можно создавать массивы и объединять их\n",
    "\n",
    "from pyspark.sql.functions import *\n",
    "\n",
    "arrays = \\\n",
    "    spark.range(0,1) \\\n",
    "    .withColumn(\"a\", array(lit(1), lit(2), lit(3))) \\\n",
    "    .withColumn(\"b\", array(lit(4),lit(5),lit(6))) \\\n",
    "    .select(array_union(col(\"a\"), col(\"b\")).alias(\"c\"))\n",
    "\n",
    "\n",
    "arrays.show(1, False)"
   ]
  },
  {
   "cell_type": "markdown",
   "metadata": {},
   "source": [
    "Также, в разделе [SQL, Built-in Functions](https://spark.apache.org/docs/latest/api/sql/index.html) присутствует еще более широкий список функций, доступных в Spark. Некоторые из них отсутствуют в [pyspark.sql.functions](https://spark.apache.org/docs/latest/api/python/pyspark.sql.html#module-pyspark.sql.functions)! \n",
    "\n",
    "Эти функции нельзя использовать как обычные методы над [pyspark.sql.Column](https://spark.apache.org/docs/latest/api/python/pyspark.sql.html#pyspark.sql.Column), однако вы можете использовать метод ```expr()``` для этого."
   ]
  },
  {
   "cell_type": "code",
   "execution_count": 58,
   "metadata": {},
   "outputs": [
    {
     "name": "stdout",
     "output_type": "stream",
     "text": [
      "+---+\n",
      "|foo|\n",
      "+---+\n",
      "|  0|\n",
      "|  1|\n",
      "|  0|\n",
      "|  1|\n",
      "|  0|\n",
      "|  1|\n",
      "|  0|\n",
      "|  1|\n",
      "|  0|\n",
      "|  1|\n",
      "+---+\n",
      "\n"
     ]
    }
   ],
   "source": [
    "from pyspark.sql.functions import *\n",
    "\n",
    "spark.range(10).select(expr(\"\"\" pmod(id, 2) \"\"\").alias(\"foo\")).show()"
   ]
  },
  {
   "cell_type": "code",
   "execution_count": 59,
   "metadata": {},
   "outputs": [
    {
     "name": "stdout",
     "output_type": "stream",
     "text": [
      "+---+------------------------------------+\n",
      "|id |a                                   |\n",
      "+---+------------------------------------+\n",
      "|0  |1f4c4041-7c2e-4155-adf5-317c49baacc6|\n",
      "+---+------------------------------------+\n",
      "\n"
     ]
    }
   ],
   "source": [
    "# В данном примере мы используем Java функцию с помощью функции java_method\n",
    "# Запомните этот пример и используйте всегда, когда вам не хватает какой-либо функции в pyspark, \n",
    "# доступной в Java, ведь, используя такой подход, вы не снижаете производительность вашей программы за счет\n",
    "# передачи данных между Python и JVM приложением Spark, и при этом вам не нужно уметь писать код на Java/Scala :)\n",
    "\n",
    "from pyspark.sql.functions import *\n",
    "\n",
    "spark.range(0,1).withColumn(\"a\", expr(\"java_method('java.util.UUID', 'randomUUID')\")).show(1, False)"
   ]
  },
  {
   "cell_type": "markdown",
   "metadata": {},
   "source": [
    "## Выводы\n",
    "**Dataframe API**:\n",
    "+ мощный инструмент для работы с данными\n",
    "+ в отличие от RDD, Dataframe API устроен так, что все вычисления происходят в JVM\n",
    "+ обладает единым API для работы с различными источниками данных\n",
    "+ имеет большой набор встроенных функций работы с данными\n",
    "+ имеет возможность использовать в pyspark функции, доступные в Java\n",
    "\n",
    "# Спасибо!"
   ]
  }
 ],
 "metadata": {
  "kernelspec": {
   "display_name": "Python 3",
   "language": "python",
   "name": "python3"
  },
  "language_info": {
   "codemirror_mode": {
    "name": "ipython",
    "version": 3
   },
   "file_extension": ".py",
   "mimetype": "text/x-python",
   "name": "python",
   "nbconvert_exporter": "python",
   "pygments_lexer": "ipython3",
   "version": "3.8.5"
  }
 },
 "nbformat": 4,
 "nbformat_minor": 2
}
